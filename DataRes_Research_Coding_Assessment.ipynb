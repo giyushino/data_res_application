{
  "cells": [
    {
      "cell_type": "code",
      "execution_count": 1,
      "metadata": {
        "id": "sjvfsNTAtbO5"
      },
      "outputs": [],
      "source": [
        "#@title Your Info { display-mode: \"form\" }\n",
        "\n",
        "Name = 'Allan Zhang' #@param {type:\"string\"}lla"
      ]
    },
    {
      "cell_type": "markdown",
      "metadata": {
        "id": "n8tKmOactZMi"
      },
      "source": [
        "# DataRes Research Coding Assessment\n",
        "\n",
        "## Due by 11:59pm, April 6th\n",
        "\n",
        "Thanks for taking the time to apply to the research team at DataRes! This assessment consists of handful of machine learning exercises that use PyTorch. If you aren't familiar with this library, there's lots of helpful documentation [here](https://pytorch.org/docs/stable/index.html), and **We highly recommend reading it thoroughly if you get stuck** to make sure you're passing correct types/dimensions into the arguments. Lots of code has already been written for you, just make sure to complete sections marked \"TODO:\" or \"Your Implementations\". There are a number of challenging problems to work on, so if you have any questions, please feel free to reach out to us at any time! Lastly, please feel free to submit the assessment even if you can't finish it all, we will take the time to look at every application we recieve.\n",
        "\n",
        "Make sure to submit this completed assessment by 11:59pm, April 6. Submissions will be turned in by emailing this notebook as an .ipynb and the .json with your model's results (more on this below) to us.\n",
        "\n",
        "Good luck!"
      ]
    },
    {
      "cell_type": "markdown",
      "metadata": {
        "id": "AFiKOp8Yz1w7"
      },
      "source": [
        "### Before you begin\n",
        "\n",
        "Here are some things to keep in mind:\n",
        "\n",
        "* Everything should be done using the PyTorch library\n",
        "* Reading documentation can be very helpful if you're stuck\n",
        "* Currently, the trainings are initialized to default epochs. Colab is about half as fast as Kaggle, so depending on which one you're using, you can change the number of epochs so training doesn't take forever (~10 minutes is good)\n",
        "* Sometimes you may get an error about the GPU/CUDA. If this happens, try changing the variables by adding this line: x = x.to('cuda') and restarting"
      ]
    },
    {
      "cell_type": "markdown",
      "metadata": {
        "id": "JKyyP0O8tvbW"
      },
      "source": [
        "### Overview\n",
        "\n",
        "In this assessment, you will be working with the [MiniPlaces dataset](https://github.com/CSAILVision/miniplaces), a dataset of scene images (10+ million images) with a wide variety of real-world environments (400+ unique scene categories). The MiniPlaces dataset is a subset of the [Places2 dataset](http://places2.csail.mit.edu/) and contains 100,000 images for training, 10,000 images for validation, and 10,000 images for testing, each of which has been annotated with one of 100 different scene categories. These images are divided into three folders: train, val, and test.\n",
        "\n",
        "Question 1 will use only some categories of this dataset. We've called this new dataset TinyPlaces. Questions 2-4 will use MiniPlaces (all subcategories).\n",
        "\n",
        "You will be completing machine learning exercises in which you will train models using this dataset. These exercises touch on the following topics:\n",
        "\n",
        "\n",
        "*   Linear, Logistic, and Softmax Regression (OPTIONAL)\n",
        "*   Multi-Layer Perceptrons\n",
        "*   Convolutional Neural Networks (CNNs)\n",
        "\n",
        "Don't worry about having to deal with preprocessing the data... we've already written code to do that for you! Just run the cell below.\n",
        "\n"
      ]
    },
    {
      "cell_type": "code",
      "execution_count": 2,
      "metadata": {
        "_cell_guid": "b1076dfc-b9ad-4769-8c92-a6c4dae69d19",
        "_uuid": "8f2839f25d086af736a60e9eeb907d3b93b6e0e5",
        "execution": {
          "iopub.execute_input": "2023-10-07T01:59:18.175960Z",
          "iopub.status.busy": "2023-10-07T01:59:18.175512Z",
          "iopub.status.idle": "2023-10-07T02:00:14.735842Z",
          "shell.execute_reply": "2023-10-07T02:00:14.734469Z",
          "shell.execute_reply.started": "2023-10-07T01:59:18.175923Z"
        },
        "id": "gyAwMa4aS2iP",
        "trusted": true,
        "colab": {
          "base_uri": "https://localhost:8080/"
        },
        "outputId": "df547a51-b483-493a-90d0-1547c1f801ec"
      },
      "outputs": [
        {
          "output_type": "stream",
          "name": "stdout",
          "text": [
            "Downloading...\n",
            "From (original): https://drive.google.com/uc?id=1z3B1GR7UtHZGrqNjUaep6thHwrN3IYSI\n",
            "From (redirected): https://drive.google.com/uc?id=1z3B1GR7UtHZGrqNjUaep6thHwrN3IYSI&confirm=t&uuid=b262d884-4db2-4665-b46b-3332e6a1dcda\n",
            "To: /content/data.tar.gz\n",
            "100% 423M/423M [00:05<00:00, 81.7MB/s]\n"
          ]
        },
        {
          "output_type": "stream",
          "name": "stderr",
          "text": [
            "Extracting tar.gz file:   0%|          | 0.00/526M [00:00<?, ?B/s]/tmp/ipython-input-2822180764.py:17: DeprecationWarning: Python 3.14 will, by default, filter extracted tar archives and reject files or modify their metadata. Use the filter argument to control this behavior.\n",
            "  tar.extract(member, os.path.join(root_dir, 'data'))\n",
            "Extracting tar.gz file: 100%|██████████| 526M/526M [00:13<00:00, 40.4MB/s]\n"
          ]
        }
      ],
      "source": [
        "import os\n",
        "path = './'\n",
        "os.makedirs(os.path.join(path, 'DataRes_Research_Assessment', 'data'), exist_ok=True)\n",
        "root_dir = os.path.join(path, 'DataRes_Research_Assessment')\n",
        "\n",
        "\n",
        "!pip3 install --upgrade gdown --quiet\n",
        "!gdown 1z3B1GR7UtHZGrqNjUaep6thHwrN3IYSI\n",
        "\n",
        "import tarfile\n",
        "from tqdm import tqdm\n",
        "\n",
        "tar = tarfile.open(\"data.tar.gz\", \"r:gz\")\n",
        "total_size = sum(f.size for f in tar.getmembers())\n",
        "with tqdm(total=total_size, unit=\"B\", unit_scale=True, desc=\"Extracting tar.gz file\") as pbar:\n",
        "    for member in tar.getmembers():\n",
        "        tar.extract(member, os.path.join(root_dir, 'data'))\n",
        "        pbar.update(member.size)\n",
        "tar.close()\n",
        "\n",
        "import urllib.request\n",
        "\n",
        "import os\n",
        "import pickle\n",
        "\n",
        "import numpy as np\n",
        "\n",
        "def load_subcategories(txt_path):\n",
        "    subcategories = {}\n",
        "    file = open(txt_path, 'r')\n",
        "    lines = file.readlines()\n",
        "    for i, l in enumerate(lines):\n",
        "        info = l.split()\n",
        "        info[0] = info[0][3:]\n",
        "        subcategories.update({info[0]: {'ori_class_id': int(info[1]), 'class_id': i}})\n",
        "\n",
        "    return subcategories\n",
        "\n",
        "\n",
        "from tqdm import trange\n",
        "import cv2\n",
        "import random\n",
        "\n",
        "def select_samples(subcategories, root_dir, split, n_images_per_subcategory):\n",
        "    samples = []\n",
        "    if split == \"train\":\n",
        "        train_dir = os.path.join(root_dir, \"data\", \"images\", \"train\")\n",
        "        for i in subcategories:\n",
        "            child_dir = os.path.join(train_dir, i[0], i)\n",
        "            pics = random.sample(os.listdir(child_dir), n_images_per_subcategory)\n",
        "            for j in pics:\n",
        "                samples.append((cv2.resize(cv2.imread(os.path.join(child_dir, j)), (32,32)).flatten().tolist(), subcategories[i][\"class_id\"]))\n",
        "    elif split == \"val\":\n",
        "        val_dir = os.path.join(root_dir, \"data\", \"images\")\n",
        "        file = open(os.path.join(root_dir, \"data\", \"val.txt\"), 'r')\n",
        "        lines = file.readlines()\n",
        "        val_data = []\n",
        "        for i in lines:\n",
        "            val_data.append(i.split())\n",
        "        random.shuffle(val_data)\n",
        "        for i in subcategories:\n",
        "            old_id = subcategories[i][\"ori_class_id\"]\n",
        "            count = 0\n",
        "            for j in val_data:\n",
        "                if int(j[1]) == old_id:\n",
        "                    samples.append((cv2.resize(cv2.imread(os.path.join(val_dir, j[0])), (32,32)).flatten().tolist(), subcategories[i][\"class_id\"]))\n",
        "                    count += 1\n",
        "                if count >= n_images_per_subcategory:\n",
        "                    break\n",
        "    return samples\n",
        "\n",
        "def create_tinyplaces(samples, binary=True):\n",
        "    data, labels = [], []\n",
        "    for i in samples:\n",
        "        data.append(i[0])\n",
        "        if binary:\n",
        "            if i[1] >= 10:\n",
        "                labels.append(1)\n",
        "            else:\n",
        "                labels.append(0)\n",
        "        else:\n",
        "            labels.append(i[1])\n",
        "    data = np.array(data)\n",
        "    labels = np.array(labels)\n",
        "    dataset = {\"data\": data, \"label\": labels}\n",
        "\n",
        "    return dataset\n",
        "\n",
        "\n",
        "# Set the root directory of the dataset\n",
        "root_dir = './DataRes_Research_Assessment/data'\n",
        "\n",
        "# Load the target subcategories and their class IDs\n",
        "subcategories = load_subcategories(os.path.join(root_dir, 'data', 'categories_tinyplaces.txt'))\n",
        "\n",
        "# Select the samples from the train split of the TinyPlaces dataset\n",
        "train_samples = select_samples(subcategories, root_dir, 'train', 500)\n",
        "\n",
        "# Create the TinyPlaces datasets for binary and multiclass classification\n",
        "tinyplaces_binary_train = create_tinyplaces(train_samples, binary=True)\n",
        "tinyplaces_multi_train = create_tinyplaces(train_samples, binary=False)\n",
        "\n",
        "# Select the samples from the val split of the MiniPlaces dataset\n",
        "val_samples = select_samples(subcategories, root_dir, 'val', 50)\n",
        "\n",
        "# Create the TinyPlaces datasets for binary and multiclass classification\n",
        "tinyplaces_binary_val = create_tinyplaces(val_samples, binary=True)\n",
        "tinyplaces_multi_val = create_tinyplaces(val_samples, binary=False)\n",
        "\n",
        "# Save the TinyPlaces datasets to the data directory\n",
        "data_dir = os.path.join(root_dir, 'data')\n",
        "\n",
        "\n",
        "with open(os.path.join(data_dir, 'tinyplaces_binary_train.pkl'), 'wb') as f:\n",
        "    pickle.dump(tinyplaces_binary_train, f)\n",
        "\n",
        "with open(os.path.join(data_dir, 'tinyplaces_multi_train.pkl'), 'wb') as f:\n",
        "    pickle.dump(tinyplaces_multi_train, f)\n",
        "\n",
        "with open(os.path.join(data_dir, 'tinyplaces_binary_val.pkl'), 'wb') as f:\n",
        "    pickle.dump(tinyplaces_binary_val, f)\n",
        "\n",
        "with open(os.path.join(data_dir, 'tinyplaces_multi_val.pkl'), 'wb') as f:\n",
        "    pickle.dump(tinyplaces_multi_val, f)\n",
        "\n",
        "\n",
        "class TinyPlacesDataset(object):\n",
        "    def __init__(self, data_dict):\n",
        "        self.dataset = data_dict\n",
        "        self.num_samples = len(data_dict['data'])\n",
        "\n",
        "    def subsample(self, ratio=0.1, seed=None):\n",
        "        if seed is not None:\n",
        "            np.random.seed(seed)\n",
        "\n",
        "        nums = random.sample(range(self.num_samples), int(ratio * self.num_samples))\n",
        "        sub_dataset = {'data': self.dataset['data'][nums], 'label': self.dataset['label'][nums]}\n",
        "        subsampled_dataset = TinyPlacesDataset(sub_dataset)\n",
        "\n",
        "        return subsampled_dataset"
      ]
    },
    {
      "cell_type": "markdown",
      "metadata": {
        "id": "EGBMfhsBt1VP"
      },
      "source": [
        "## GPU\n",
        "\n",
        "You will train your models using the GPU, which enables parallel processing and is vital for training deep learning models.\n",
        "\n",
        "If you're using Colab, go to:\n",
        "Runtime -> Change Runtime Type -> Hardware Accelerator -> GPU\n",
        "\n",
        "If you're using Kaggle, go to: More Settings (the three dots) -> Accelerator -> GPU P100"
      ]
    },
    {
      "cell_type": "code",
      "execution_count": 3,
      "metadata": {
        "execution": {
          "iopub.execute_input": "2023-10-07T02:00:14.739407Z",
          "iopub.status.busy": "2023-10-07T02:00:14.737784Z",
          "iopub.status.idle": "2023-10-07T02:00:14.749555Z",
          "shell.execute_reply": "2023-10-07T02:00:14.747879Z",
          "shell.execute_reply.started": "2023-10-07T02:00:14.739372Z"
        },
        "id": "LOGvGDrFS2iQ",
        "trusted": true,
        "colab": {
          "base_uri": "https://localhost:8080/"
        },
        "outputId": "cf846a4e-b946-4168-a277-30dc31aaa635"
      },
      "outputs": [
        {
          "output_type": "stream",
          "name": "stdout",
          "text": [
            "Using device: cuda. Good to go!\n"
          ]
        }
      ],
      "source": [
        "import torch\n",
        "\n",
        "device = torch.device('cuda' if torch.cuda.is_available() else 'cpu')\n",
        "\n",
        "if device == torch.device('cuda'):\n",
        "    print(f'Using device: {device}. Good to go!')\n",
        "else:\n",
        "    print('Please set GPU via Edit -> Notebook Settings.')"
      ]
    },
    {
      "cell_type": "code",
      "execution_count": 4,
      "metadata": {
        "execution": {
          "iopub.execute_input": "2023-10-07T02:00:14.751617Z",
          "iopub.status.busy": "2023-10-07T02:00:14.751275Z",
          "iopub.status.idle": "2023-10-07T02:00:15.883869Z",
          "shell.execute_reply": "2023-10-07T02:00:15.882719Z",
          "shell.execute_reply.started": "2023-10-07T02:00:14.751586Z"
        },
        "id": "htAi7fg4S2iR",
        "trusted": true,
        "colab": {
          "base_uri": "https://localhost:8080/"
        },
        "outputId": "d7ff583d-01bb-4f23-f686-8c800196f09b"
      },
      "outputs": [
        {
          "output_type": "stream",
          "name": "stdout",
          "text": [
            "Sat Oct  4 00:00:17 2025       \n",
            "+-----------------------------------------------------------------------------------------+\n",
            "| NVIDIA-SMI 550.54.15              Driver Version: 550.54.15      CUDA Version: 12.4     |\n",
            "|-----------------------------------------+------------------------+----------------------+\n",
            "| GPU  Name                 Persistence-M | Bus-Id          Disp.A | Volatile Uncorr. ECC |\n",
            "| Fan  Temp   Perf          Pwr:Usage/Cap |           Memory-Usage | GPU-Util  Compute M. |\n",
            "|                                         |                        |               MIG M. |\n",
            "|=========================================+========================+======================|\n",
            "|   0  Tesla T4                       Off |   00000000:00:04.0 Off |                    0 |\n",
            "| N/A   42C    P8              9W /   70W |       2MiB /  15360MiB |      0%      Default |\n",
            "|                                         |                        |                  N/A |\n",
            "+-----------------------------------------+------------------------+----------------------+\n",
            "                                                                                         \n",
            "+-----------------------------------------------------------------------------------------+\n",
            "| Processes:                                                                              |\n",
            "|  GPU   GI   CI        PID   Type   Process name                              GPU Memory |\n",
            "|        ID   ID                                                               Usage      |\n",
            "|=========================================================================================|\n",
            "|  No running processes found                                                             |\n",
            "+-----------------------------------------------------------------------------------------+\n"
          ]
        }
      ],
      "source": [
        "# This line of code gives you info about GPU\n",
        "! nvidia-smi"
      ]
    },
    {
      "cell_type": "code",
      "execution_count": 5,
      "metadata": {
        "execution": {
          "iopub.execute_input": "2023-10-07T02:00:15.887740Z",
          "iopub.status.busy": "2023-10-07T02:00:15.887129Z",
          "iopub.status.idle": "2023-10-07T02:00:17.057569Z",
          "shell.execute_reply": "2023-10-07T02:00:17.056608Z",
          "shell.execute_reply.started": "2023-10-07T02:00:15.887706Z"
        },
        "id": "-5SQxfd4S2iR",
        "trusted": true
      },
      "outputs": [],
      "source": [
        "import os\n",
        "import torch\n",
        "import pickle\n",
        "root_dir = './DataRes_Research_Assessment/data'\n",
        "\n",
        "class TinyPlacesDataset(object):\n",
        "    def __init__(self, data_dict):\n",
        "        self.dataset = data_dict\n",
        "        self.num_samples = len(data_dict['data'])\n",
        "\n",
        "    def subsample(self, ratio=0.1, seed=None):\n",
        "        if seed is not None:\n",
        "            np.random.seed(seed)\n",
        "\n",
        "        nums = random.sample(range(self.num_samples), int(ratio * self.num_samples))\n",
        "        sub_dataset = {'data': self.dataset['data'][nums], 'label': self.dataset['label'][nums]}\n",
        "        subsampled_dataset = TinyPlacesDataset(sub_dataset)\n",
        "\n",
        "        return subsampled_dataset\n",
        "with open(os.path.join(root_dir, 'data', 'tinyplaces_binary_train.pkl'), 'rb') as f:\n",
        "    binary_train = TinyPlacesDataset(pickle.load(f))\n",
        "with open(os.path.join(root_dir, 'data', 'tinyplaces_binary_val.pkl'), 'rb') as f:\n",
        "    binary_val = TinyPlacesDataset(pickle.load(f))\n",
        "with open(os.path.join(root_dir, 'data', 'tinyplaces_multi_train.pkl'), 'rb') as f:\n",
        "    multi_train = TinyPlacesDataset(pickle.load(f))\n",
        "with open(os.path.join(root_dir, 'data', 'tinyplaces_multi_val.pkl'), 'rb') as f:\n",
        "    multi_val = TinyPlacesDataset(pickle.load(f))\n",
        "\n",
        "# Convert everything from numpy arrays to tensors and move them to the GPU using .cuda()\n",
        "for dataset in [binary_train, binary_val, multi_train, multi_val]:\n",
        "    for k in ['data', 'label']:\n",
        "        dataset.dataset[k] = torch.tensor(dataset.dataset[k]).float().cuda()"
      ]
    },
    {
      "cell_type": "code",
      "execution_count": 6,
      "metadata": {
        "execution": {
          "iopub.execute_input": "2023-10-07T02:00:17.059627Z",
          "iopub.status.busy": "2023-10-07T02:00:17.059039Z",
          "iopub.status.idle": "2023-10-07T02:00:17.064493Z",
          "shell.execute_reply": "2023-10-07T02:00:17.063250Z",
          "shell.execute_reply.started": "2023-10-07T02:00:17.059593Z"
        },
        "id": "oNfvvZQZS2iR",
        "trusted": true
      },
      "outputs": [],
      "source": [
        "from tqdm import tqdm"
      ]
    },
    {
      "cell_type": "markdown",
      "metadata": {
        "id": "J2m2FeWIubFA"
      },
      "source": [
        "## Q1 Regressions (OPTIONAL)"
      ]
    },
    {
      "cell_type": "markdown",
      "metadata": {
        "id": "uHWtYYNxubsA"
      },
      "source": [
        "### Linear Regression (OPTIONAL)\n",
        "\n",
        "Below, you will implement linear regression. You'll need to use PyTorch to initialize the parameters and implement the linear function and mean squared error.\n",
        "\n",
        "If the prediction score > 0.5, we consider the image to be of outdoor category. Otherwise, we consider it to be indoor category."
      ]
    },
    {
      "cell_type": "code",
      "execution_count": 8,
      "metadata": {
        "execution": {
          "iopub.execute_input": "2023-10-07T02:00:17.066747Z",
          "iopub.status.busy": "2023-10-07T02:00:17.066112Z",
          "iopub.status.idle": "2023-10-07T02:00:17.084621Z",
          "shell.execute_reply": "2023-10-07T02:00:17.083569Z",
          "shell.execute_reply.started": "2023-10-07T02:00:17.066716Z"
        },
        "id": "FmoaFZKIS2iR",
        "trusted": true
      },
      "outputs": [],
      "source": [
        "class LinearRegression(object):\n",
        "    def __init__(self, input_size, output_size):\n",
        "        \"\"\"\n",
        "          Initialize the weights and biases using zeros distribution\n",
        "\n",
        "          Parameters:\n",
        "              input_size (int): The input size (dimension of feature vectors)\n",
        "              output_size (int): The output size (dimension of output logits)\n",
        "\n",
        "          Returns:\n",
        "              None.\n",
        "        \"\"\"\n",
        "        # Initialize the weights and biases using zeros\n",
        "        # Make sure your tensors keep track of their gradient\n",
        "        # Move the parameters to GPU (cuda)\n",
        "        ################# Your Implementations #################################\n",
        "        self.W = torch.nn.Parameter(torch.zeros(input_size, output_size, device=device, requires_grad=True, dtype=torch.float64))\n",
        "        self.b = torch.nn.Parameter(torch.zeros(output_size, device=device, requires_grad=True, dtype=torch.float64))\n",
        "\n",
        "        ################# End of your Implementations ##########################\n",
        "\n",
        "    def linear(self, x):\n",
        "        ################# Your Implementations #################################\n",
        "        output = x @ self.W + self.b\n",
        "\n",
        "        ################# End of your Implementations ##########################\n",
        "        return output\n",
        "\n",
        "    def forward(self, x):\n",
        "        # To make the output shape compact.\n",
        "        return self.linear(x).squeeze()\n",
        "\n",
        "    def get_loss(self, pred_logits, targets):\n",
        "        # Calculate the mean squared error between the predicted labels and the ground-truth labels\n",
        "        loss = None\n",
        "        ################# Your Implementations #################################\n",
        "        loss = torch.mean((pred_logits - targets)**2)\n",
        "\n",
        "        ################# End of your Implementations ##########################\n",
        "        return loss\n",
        "\n",
        "    def fit(self, x, y, x_val, y_val, lr, epochs=500000, print_freq=1000):\n",
        "        # Fit the linear regression model to the training data using gradient descent\n",
        "        # x is the input data, y is the ground-truth labels\n",
        "        # lr is the learning rate, epochs is the number of epochs\n",
        "\n",
        "        # To store validation accuracy\n",
        "        val_accs = []\n",
        "        # Create a progress bar using tqdm\n",
        "        pbar = tqdm(range(epochs))\n",
        "        for epoch in pbar:\n",
        "            # Calculate the loss\n",
        "            y_pred_logits = self.forward(x)\n",
        "            loss = self.get_loss(y_pred_logits, y)\n",
        "            # Backpropagate the loss to compute the gradients\n",
        "            loss.backward()\n",
        "            # Update the weights and biases using gradient descent\n",
        "            with torch.no_grad():\n",
        "                self.W -= lr * self.W.grad\n",
        "                self.b -= lr * self.b.grad\n",
        "                # Reset the gradients\n",
        "                self.W.grad.zero_()\n",
        "                self.b.grad.zero_()\n",
        "\n",
        "            if epoch % print_freq == 0:\n",
        "                # Calculate the validation accuracy\n",
        "                val_acc = self.evaluate(x_val, y_val)\n",
        "                val_accs.append(val_acc)\n",
        "                # Update the progress bar with the validation accuracy and training loss\n",
        "                pbar.set_description(f'val_acc: {val_acc:.3f}')\n",
        "        return val_accs\n",
        "\n",
        "    def evaluate(self, x, y):\n",
        "        # Evaluate the performance of the linear regression model on the dataset\n",
        "        # x is the input data, y is the ground-truth labels\n",
        "        # Calculate the predicted labels\n",
        "        y_pred = self.forward(x) > 0.5\n",
        "        return (y_pred == y).float().mean().item()"
      ]
    },
    {
      "cell_type": "code",
      "execution_count": 9,
      "metadata": {
        "execution": {
          "iopub.execute_input": "2023-10-07T02:00:17.087316Z",
          "iopub.status.busy": "2023-10-07T02:00:17.086140Z",
          "iopub.status.idle": "2023-10-07T02:00:17.099650Z",
          "shell.execute_reply": "2023-10-07T02:00:17.098688Z",
          "shell.execute_reply.started": "2023-10-07T02:00:17.087283Z"
        },
        "id": "Mizc7tkcS2iR",
        "trusted": true
      },
      "outputs": [],
      "source": [
        "def normalize(x):\n",
        "    # We can simply divide x by 255 since its range is (0,255)\n",
        "    return x / 255."
      ]
    },
    {
      "cell_type": "code",
      "execution_count": 10,
      "metadata": {
        "execution": {
          "iopub.execute_input": "2023-10-07T02:00:17.101719Z",
          "iopub.status.busy": "2023-10-07T02:00:17.101135Z",
          "iopub.status.idle": "2023-10-07T02:00:17.112242Z",
          "shell.execute_reply": "2023-10-07T02:00:17.111324Z",
          "shell.execute_reply.started": "2023-10-07T02:00:17.101685Z"
        },
        "id": "1G_UZ_zwS2iR",
        "trusted": true
      },
      "outputs": [],
      "source": [
        "# Here \"ori\" indicates \"original\"\n",
        "X_train_ori, y_train = binary_train.dataset['data'], binary_train.dataset['label']\n",
        "X_val_ori, y_val = binary_val.dataset['data'], binary_val.dataset['label']\n",
        "\n",
        "# Normalization\n",
        "X_train = normalize(X_train_ori)\n",
        "X_val = normalize(X_val_ori)"
      ]
    },
    {
      "cell_type": "markdown",
      "metadata": {
        "id": "pW0B-W58uilG"
      },
      "source": [
        "Use the next 3 cells to debug. The next cell should give an accuracy of 0.5 since we're using zeros-initialization."
      ]
    },
    {
      "cell_type": "code",
      "execution_count": 11,
      "metadata": {
        "execution": {
          "iopub.execute_input": "2023-10-07T02:00:17.114789Z",
          "iopub.status.busy": "2023-10-07T02:00:17.113594Z",
          "iopub.status.idle": "2023-10-07T02:00:17.126758Z",
          "shell.execute_reply": "2023-10-07T02:00:17.125666Z",
          "shell.execute_reply.started": "2023-10-07T02:00:17.114755Z"
        },
        "id": "J_l1H9tYS2iS",
        "trusted": true,
        "colab": {
          "base_uri": "https://localhost:8080/"
        },
        "outputId": "e9525809-7dc9-492e-c60d-8799d819ab09"
      },
      "outputs": [
        {
          "output_type": "stream",
          "name": "stdout",
          "text": [
            "train accuracy: 0.5\n",
            "val accuracy: 0.5\n"
          ]
        }
      ],
      "source": [
        "linear_model = LinearRegression(3072, 1)\n",
        "train_acc = linear_model.evaluate(X_train.double(), y_train)\n",
        "val_acc = linear_model.evaluate(X_val.double(), y_val)\n",
        "print('train accuracy:', train_acc)\n",
        "print('val accuracy:', val_acc)"
      ]
    },
    {
      "cell_type": "code",
      "execution_count": 12,
      "metadata": {
        "execution": {
          "iopub.execute_input": "2023-10-07T02:00:17.131253Z",
          "iopub.status.busy": "2023-10-07T02:00:17.130992Z",
          "iopub.status.idle": "2023-10-07T02:00:17.138773Z",
          "shell.execute_reply": "2023-10-07T02:00:17.137551Z",
          "shell.execute_reply.started": "2023-10-07T02:00:17.131230Z"
        },
        "id": "BsgSuKsoS2iS",
        "trusted": true,
        "colab": {
          "base_uri": "https://localhost:8080/"
        },
        "outputId": "f0c6206e-adec-47bb-ac3e-4c8ce0ec4a60"
      },
      "outputs": [
        {
          "output_type": "stream",
          "name": "stdout",
          "text": [
            "loss: 0.5\n"
          ]
        }
      ],
      "source": [
        "# Try to debug using this cell\n",
        "linear_model = LinearRegression(3072, 1)\n",
        "# We refer the raw outputs from a model to as \"logits\",\n",
        "# i.e., we haven't transformed the results to binary labels.\n",
        "y_pred_logits = linear_model.forward(X_train.double())\n",
        "loss = linear_model.get_loss(y_pred_logits, y_train)\n",
        "print(\"loss:\", loss.item())"
      ]
    },
    {
      "cell_type": "code",
      "execution_count": 13,
      "metadata": {
        "execution": {
          "iopub.execute_input": "2023-10-07T02:00:17.141045Z",
          "iopub.status.busy": "2023-10-07T02:00:17.140225Z",
          "iopub.status.idle": "2023-10-07T02:00:17.155942Z",
          "shell.execute_reply": "2023-10-07T02:00:17.155040Z",
          "shell.execute_reply.started": "2023-10-07T02:00:17.141012Z"
        },
        "id": "GIOgOnd5S2iS",
        "trusted": true,
        "colab": {
          "base_uri": "https://localhost:8080/"
        },
        "outputId": "3731e26e-d13d-4cdf-dd08-4c450042a90a"
      },
      "outputs": [
        {
          "output_type": "stream",
          "name": "stdout",
          "text": [
            "tensor([[-0.5359],\n",
            "        [-0.5079],\n",
            "        [-0.4610],\n",
            "        ...,\n",
            "        [-0.3028],\n",
            "        [-0.3546],\n",
            "        [-0.3649]], device='cuda:0', dtype=torch.float64)\n",
            "tensor([-1.0000], device='cuda:0', dtype=torch.float64)\n"
          ]
        }
      ],
      "source": [
        "# compute gradients\n",
        "loss.backward()\n",
        "\n",
        "# check the gradients\n",
        "print(linear_model.W.grad)\n",
        "print(linear_model.b.grad)"
      ]
    },
    {
      "cell_type": "markdown",
      "metadata": {
        "id": "cUFTLarxulrd"
      },
      "source": [
        "Great, you've fully implemented the linear regression model! Let's train it."
      ]
    },
    {
      "cell_type": "code",
      "execution_count": 14,
      "metadata": {
        "execution": {
          "iopub.execute_input": "2023-10-07T02:00:17.157929Z",
          "iopub.status.busy": "2023-10-07T02:00:17.157393Z",
          "iopub.status.idle": "2023-10-07T02:10:28.302720Z",
          "shell.execute_reply": "2023-10-07T02:10:28.301836Z",
          "shell.execute_reply.started": "2023-10-07T02:00:17.157898Z"
        },
        "id": "W3VjCJZuS2iS",
        "trusted": true,
        "colab": {
          "base_uri": "https://localhost:8080/"
        },
        "outputId": "a036635f-6ac9-484b-cad2-3e7bfaa9825d"
      },
      "outputs": [
        {
          "output_type": "stream",
          "name": "stderr",
          "text": [
            "val_acc: 0.792: 100%|██████████| 250000/250000 [08:41<00:00, 479.83it/s]\n"
          ]
        }
      ],
      "source": [
        "linear_model = LinearRegression(3072, 1)\n",
        "# It may be helpful to change the number of epochs to a very small number while debugging\n",
        "# For your final submission, you can change the epochs so that training doesn't take forever (~10 minutes is good)\n",
        "lin_val_accs = linear_model.fit(X_train.double().cuda(), y_train, X_val.double().cuda(), y_val, 1e-4, 250000, 1000)"
      ]
    },
    {
      "cell_type": "markdown",
      "metadata": {
        "id": "0-Ax-AdvuqKT"
      },
      "source": [
        "### Logistic Regression (OPTIONAL)\n",
        "\n",
        "Logistic regression is very similar to linear regression, but the sigmoid function is added to the forward pass and cross-entropy is used for loss. Here's the formulas:\n",
        "\n",
        "Sigmoid:\n",
        "\n",
        "$$\\frac{1}{1+e^{-x}}$$\n",
        "\n",
        "Cross-Entropy Loss:\n",
        "\n",
        "$$\\mathrm{CE_Loss}(p, y) = -{(y\\log(p) + (1-y)\\log(1-p))}$$\n",
        "\n",
        "Implement them below!"
      ]
    },
    {
      "cell_type": "code",
      "execution_count": 20,
      "metadata": {
        "execution": {
          "iopub.execute_input": "2023-10-07T02:10:28.304706Z",
          "iopub.status.busy": "2023-10-07T02:10:28.304155Z",
          "iopub.status.idle": "2023-10-07T02:10:28.310498Z",
          "shell.execute_reply": "2023-10-07T02:10:28.309671Z",
          "shell.execute_reply.started": "2023-10-07T02:10:28.304673Z"
        },
        "id": "GfIt43g3S2iS",
        "trusted": true
      },
      "outputs": [],
      "source": [
        "def sigmoid(x):\n",
        "    ################# Your Implementations #################################\n",
        "    output = torch.sigmoid(x)\n",
        "\n",
        "    ################# End of your Implementations ##########################\n",
        "    return output\n",
        "\n",
        "\n",
        "def cross_entropy_loss(p, y):\n",
        "    ################# Your Implementations #################################\n",
        "    #output = -(y * torch.log(p)) + (1- y) * torch.log(1 - p)\n",
        "    eps = 1e-8\n",
        "    p = torch.clamp(p, eps, 1 - eps)  # avoid log(0)\n",
        "    output = - (y * torch.log(p) + (1 - y) * torch.log(1 - p))\n",
        "    output = torch.mean(output)\n",
        "\n",
        "\n",
        "    ################# End of your Implementations ##########################\n",
        "    return output"
      ]
    },
    {
      "cell_type": "markdown",
      "metadata": {
        "id": "JLA5YsCIusxo"
      },
      "source": [
        "Use these implementations below to implement the Logistic Regression model."
      ]
    },
    {
      "cell_type": "code",
      "execution_count": 21,
      "metadata": {
        "execution": {
          "iopub.execute_input": "2023-10-07T02:10:28.312991Z",
          "iopub.status.busy": "2023-10-07T02:10:28.311938Z",
          "iopub.status.idle": "2023-10-07T02:10:28.323365Z",
          "shell.execute_reply": "2023-10-07T02:10:28.322530Z",
          "shell.execute_reply.started": "2023-10-07T02:10:28.312934Z"
        },
        "id": "Wzjx1WhRS2iS",
        "trusted": true
      },
      "outputs": [],
      "source": [
        "class LogisticRegression(LinearRegression):\n",
        "    def __init__(self, input_size, output_size):\n",
        "        super(LogisticRegression, self).__init__(input_size, output_size)\n",
        "\n",
        "    def forward(self, x):\n",
        "        # Apply the sigmoid function to the linear output\n",
        "        ################# Your Implementations #################################\n",
        "        output = self.linear(x)\n",
        "        output = sigmoid(output)\n",
        "\n",
        "        ################# End of your Implementations ##########################\n",
        "        return output\n",
        "\n",
        "    def get_loss(self, pred_logits, targets):\n",
        "        # Calculate the cross-entropy loss\n",
        "        ################# Your Implementations #################################\n",
        "        loss = cross_entropy_loss(pred_logits, targets)\n",
        "\n",
        "        ################# End of your Implementations ##########################\n",
        "        return loss"
      ]
    },
    {
      "cell_type": "markdown",
      "metadata": {
        "id": "nmTKJwhouusX"
      },
      "source": [
        "Train!"
      ]
    },
    {
      "cell_type": "code",
      "execution_count": 28,
      "metadata": {
        "execution": {
          "iopub.execute_input": "2023-10-07T02:10:28.324993Z",
          "iopub.status.busy": "2023-10-07T02:10:28.324510Z",
          "iopub.status.idle": "2023-10-07T02:20:41.868366Z",
          "shell.execute_reply": "2023-10-07T02:20:41.867393Z",
          "shell.execute_reply.started": "2023-10-07T02:10:28.324964Z"
        },
        "id": "VAVLfWMgS2iS",
        "trusted": true,
        "colab": {
          "base_uri": "https://localhost:8080/",
          "height": 433
        },
        "outputId": "ced7c282-6586-4e80-a6ad-325dc858332f"
      },
      "outputs": [
        {
          "output_type": "stream",
          "name": "stderr",
          "text": [
            "val_acc: 0.500:   5%|▌         | 53/1000 [00:01<00:31, 29.93it/s]\n"
          ]
        },
        {
          "output_type": "error",
          "ename": "KeyboardInterrupt",
          "evalue": "",
          "traceback": [
            "\u001b[0;31m---------------------------------------------------------------------------\u001b[0m",
            "\u001b[0;31mKeyboardInterrupt\u001b[0m                         Traceback (most recent call last)",
            "\u001b[0;32m/tmp/ipython-input-3518192891.py\u001b[0m in \u001b[0;36m<cell line: 0>\u001b[0;34m()\u001b[0m\n\u001b[1;32m      2\u001b[0m \u001b[0;31m# Again, you can change the epochs so that training doesn't take forever (~10 minutes is good)\u001b[0m\u001b[0;34m\u001b[0m\u001b[0;34m\u001b[0m\u001b[0m\n\u001b[1;32m      3\u001b[0m \u001b[0;31m#logi_val_accs = logistic_model.fit(X_train.double(), y_train, X_val.double(), y_val, 1e-4, 25000, 1000)\u001b[0m\u001b[0;34m\u001b[0m\u001b[0;34m\u001b[0m\u001b[0m\n\u001b[0;32m----> 4\u001b[0;31m \u001b[0mlogi_val_accs\u001b[0m \u001b[0;34m=\u001b[0m \u001b[0mlogistic_model\u001b[0m\u001b[0;34m.\u001b[0m\u001b[0mfit\u001b[0m\u001b[0;34m(\u001b[0m\u001b[0mX_train\u001b[0m\u001b[0;34m.\u001b[0m\u001b[0mdouble\u001b[0m\u001b[0;34m(\u001b[0m\u001b[0;34m)\u001b[0m\u001b[0;34m,\u001b[0m \u001b[0my_train\u001b[0m\u001b[0;34m,\u001b[0m \u001b[0mX_val\u001b[0m\u001b[0;34m.\u001b[0m\u001b[0mdouble\u001b[0m\u001b[0;34m(\u001b[0m\u001b[0;34m)\u001b[0m\u001b[0;34m,\u001b[0m \u001b[0my_val\u001b[0m\u001b[0;34m,\u001b[0m \u001b[0;36m1e-2\u001b[0m\u001b[0;34m,\u001b[0m \u001b[0;36m1000\u001b[0m\u001b[0;34m,\u001b[0m \u001b[0;36m1000\u001b[0m\u001b[0;34m)\u001b[0m\u001b[0;34m\u001b[0m\u001b[0;34m\u001b[0m\u001b[0m\n\u001b[0m\u001b[1;32m      5\u001b[0m \u001b[0;31m# honestly I have no clue where I went wrong with this\u001b[0m\u001b[0;34m\u001b[0m\u001b[0;34m\u001b[0m\u001b[0m\n",
            "\u001b[0;32m/tmp/ipython-input-1367364824.py\u001b[0m in \u001b[0;36mfit\u001b[0;34m(self, x, y, x_val, y_val, lr, epochs, print_freq)\u001b[0m\n\u001b[1;32m     54\u001b[0m             \u001b[0mloss\u001b[0m \u001b[0;34m=\u001b[0m \u001b[0mself\u001b[0m\u001b[0;34m.\u001b[0m\u001b[0mget_loss\u001b[0m\u001b[0;34m(\u001b[0m\u001b[0my_pred_logits\u001b[0m\u001b[0;34m,\u001b[0m \u001b[0my\u001b[0m\u001b[0;34m)\u001b[0m\u001b[0;34m\u001b[0m\u001b[0;34m\u001b[0m\u001b[0m\n\u001b[1;32m     55\u001b[0m             \u001b[0;31m# Backpropagate the loss to compute the gradients\u001b[0m\u001b[0;34m\u001b[0m\u001b[0;34m\u001b[0m\u001b[0m\n\u001b[0;32m---> 56\u001b[0;31m             \u001b[0mloss\u001b[0m\u001b[0;34m.\u001b[0m\u001b[0mbackward\u001b[0m\u001b[0;34m(\u001b[0m\u001b[0;34m)\u001b[0m\u001b[0;34m\u001b[0m\u001b[0;34m\u001b[0m\u001b[0m\n\u001b[0m\u001b[1;32m     57\u001b[0m             \u001b[0;31m# Update the weights and biases using gradient descent\u001b[0m\u001b[0;34m\u001b[0m\u001b[0;34m\u001b[0m\u001b[0m\n\u001b[1;32m     58\u001b[0m             \u001b[0;32mwith\u001b[0m \u001b[0mtorch\u001b[0m\u001b[0;34m.\u001b[0m\u001b[0mno_grad\u001b[0m\u001b[0;34m(\u001b[0m\u001b[0;34m)\u001b[0m\u001b[0;34m:\u001b[0m\u001b[0;34m\u001b[0m\u001b[0;34m\u001b[0m\u001b[0m\n",
            "\u001b[0;32m/usr/local/lib/python3.12/dist-packages/torch/_tensor.py\u001b[0m in \u001b[0;36mbackward\u001b[0;34m(self, gradient, retain_graph, create_graph, inputs)\u001b[0m\n\u001b[1;32m    645\u001b[0m                 \u001b[0minputs\u001b[0m\u001b[0;34m=\u001b[0m\u001b[0minputs\u001b[0m\u001b[0;34m,\u001b[0m\u001b[0;34m\u001b[0m\u001b[0;34m\u001b[0m\u001b[0m\n\u001b[1;32m    646\u001b[0m             )\n\u001b[0;32m--> 647\u001b[0;31m         torch.autograd.backward(\n\u001b[0m\u001b[1;32m    648\u001b[0m             \u001b[0mself\u001b[0m\u001b[0;34m,\u001b[0m \u001b[0mgradient\u001b[0m\u001b[0;34m,\u001b[0m \u001b[0mretain_graph\u001b[0m\u001b[0;34m,\u001b[0m \u001b[0mcreate_graph\u001b[0m\u001b[0;34m,\u001b[0m \u001b[0minputs\u001b[0m\u001b[0;34m=\u001b[0m\u001b[0minputs\u001b[0m\u001b[0;34m\u001b[0m\u001b[0;34m\u001b[0m\u001b[0m\n\u001b[1;32m    649\u001b[0m         )\n",
            "\u001b[0;32m/usr/local/lib/python3.12/dist-packages/torch/autograd/__init__.py\u001b[0m in \u001b[0;36mbackward\u001b[0;34m(tensors, grad_tensors, retain_graph, create_graph, grad_variables, inputs)\u001b[0m\n\u001b[1;32m    352\u001b[0m     \u001b[0;31m# some Python versions print out the first line of a multi-line function\u001b[0m\u001b[0;34m\u001b[0m\u001b[0;34m\u001b[0m\u001b[0m\n\u001b[1;32m    353\u001b[0m     \u001b[0;31m# calls in the traceback and some print out the last line\u001b[0m\u001b[0;34m\u001b[0m\u001b[0;34m\u001b[0m\u001b[0m\n\u001b[0;32m--> 354\u001b[0;31m     _engine_run_backward(\n\u001b[0m\u001b[1;32m    355\u001b[0m         \u001b[0mtensors\u001b[0m\u001b[0;34m,\u001b[0m\u001b[0;34m\u001b[0m\u001b[0;34m\u001b[0m\u001b[0m\n\u001b[1;32m    356\u001b[0m         \u001b[0mgrad_tensors_\u001b[0m\u001b[0;34m,\u001b[0m\u001b[0;34m\u001b[0m\u001b[0;34m\u001b[0m\u001b[0m\n",
            "\u001b[0;32m/usr/local/lib/python3.12/dist-packages/torch/autograd/graph.py\u001b[0m in \u001b[0;36m_engine_run_backward\u001b[0;34m(t_outputs, *args, **kwargs)\u001b[0m\n\u001b[1;32m    827\u001b[0m         \u001b[0munregister_hooks\u001b[0m \u001b[0;34m=\u001b[0m \u001b[0m_register_logging_hooks_on_whole_graph\u001b[0m\u001b[0;34m(\u001b[0m\u001b[0mt_outputs\u001b[0m\u001b[0;34m)\u001b[0m\u001b[0;34m\u001b[0m\u001b[0;34m\u001b[0m\u001b[0m\n\u001b[1;32m    828\u001b[0m     \u001b[0;32mtry\u001b[0m\u001b[0;34m:\u001b[0m\u001b[0;34m\u001b[0m\u001b[0;34m\u001b[0m\u001b[0m\n\u001b[0;32m--> 829\u001b[0;31m         return Variable._execution_engine.run_backward(  # Calls into the C++ engine to run the backward pass\n\u001b[0m\u001b[1;32m    830\u001b[0m             \u001b[0mt_outputs\u001b[0m\u001b[0;34m,\u001b[0m \u001b[0;34m*\u001b[0m\u001b[0margs\u001b[0m\u001b[0;34m,\u001b[0m \u001b[0;34m**\u001b[0m\u001b[0mkwargs\u001b[0m\u001b[0;34m\u001b[0m\u001b[0;34m\u001b[0m\u001b[0m\n\u001b[1;32m    831\u001b[0m         )  # Calls into the C++ engine to run the backward pass\n",
            "\u001b[0;31mKeyboardInterrupt\u001b[0m: "
          ]
        }
      ],
      "source": [
        "logistic_model = LogisticRegression(3072, 1)\n",
        "# Again, you can change the epochs so that training doesn't take forever (~10 minutes is good)\n",
        "#logi_val_accs = logistic_model.fit(X_train.double(), y_train, X_val.double(), y_val, 1e-4, 25000, 1000)\n",
        "logi_val_accs = logistic_model.fit(X_train.double(), y_train, X_val.double(), y_val, 1e-2, 1000, 1000)\n",
        "# honestly I have no clue where I went wrong with this"
      ]
    },
    {
      "cell_type": "markdown",
      "metadata": {
        "id": "-aXCtUYtuw3_"
      },
      "source": [
        "Plot the validation accuracies of both models. Logistic Regression should be more accurate."
      ]
    },
    {
      "cell_type": "code",
      "execution_count": 27,
      "metadata": {
        "execution": {
          "iopub.execute_input": "2023-10-07T02:20:41.870452Z",
          "iopub.status.busy": "2023-10-07T02:20:41.869823Z",
          "iopub.status.idle": "2023-10-07T02:20:42.112235Z",
          "shell.execute_reply": "2023-10-07T02:20:42.111301Z",
          "shell.execute_reply.started": "2023-10-07T02:20:41.870406Z"
        },
        "id": "vW1a48IqS2iT",
        "trusted": true,
        "colab": {
          "base_uri": "https://localhost:8080/",
          "height": 449
        },
        "outputId": "6b32d737-ec9c-4e4e-b30a-36b5a62e92e2"
      },
      "outputs": [
        {
          "output_type": "display_data",
          "data": {
            "text/plain": [
              "<Figure size 640x480 with 1 Axes>"
            ],
            "image/png": "[encoded data removed]"
          },
          "metadata": {}
        }
      ],
      "source": [
        "import matplotlib.pyplot as plt\n",
        "\n",
        "plt.plot(lin_val_accs, label='LinearRegression')\n",
        "plt.plot(logi_val_accs, label='LogisticRegression')\n",
        "plt.legend()\n",
        "plt.xlabel('Iteration')\n",
        "plt.ylabel('Validation Accuracy (%)')\n",
        "plt.show()"
      ]
    },
    {
      "cell_type": "markdown",
      "metadata": {
        "id": "OdxpWU9iu0UV"
      },
      "source": [
        "### Softmax Regression (OPTIONAL)\n",
        "\n",
        "Softmax regression is similar to logistic regression except it uses the softmax function instead of sigmoid and uses negative log likelihood for the loss. Here's the formulas:\n",
        "\n",
        "Softmax:\n",
        "\n",
        "$$\\frac{e^{z_{i}}}{\\sum_{j=1}^K e^{z_{j}}} \\ \\ \\ for\\ i=1,2,\\dots,K$$\n",
        "\n",
        "where z is the output of the linear model, and K is the number of classes.\n",
        "\n",
        "Negative Log Likelihood:\n",
        "\n",
        "$$-{\\log(p(y))}$$\n",
        "\n",
        "where p(y) is the predicted probability of the data point belonging to the true class y.\n",
        "\n",
        "Implement them below!"
      ]
    },
    {
      "cell_type": "code",
      "execution_count": 56,
      "metadata": {
        "execution": {
          "iopub.execute_input": "2023-10-07T02:20:42.114271Z",
          "iopub.status.busy": "2023-10-07T02:20:42.113454Z",
          "iopub.status.idle": "2023-10-07T02:20:42.122410Z",
          "shell.execute_reply": "2023-10-07T02:20:42.121295Z",
          "shell.execute_reply.started": "2023-10-07T02:20:42.114239Z"
        },
        "id": "mUqySvfdS2iT",
        "trusted": true
      },
      "outputs": [],
      "source": [
        "def softmax(x):\n",
        "    # Implement the softmax function\n",
        "    # x is the input data with shape (batch_size, input_size)\n",
        "    # Return the softmax output with shape (batch_size, output_size)\n",
        "    ################# Your Implementations #################################\n",
        "    output = torch.softmax(x, dim=1)\n",
        "\n",
        "    ################# End of your Implementations ##########################\n",
        "    return output\n",
        "\n",
        "def nll_loss(pred_probs, targets):\n",
        "    # Calculate the negative log likelihood loss\n",
        "    # pred_probs is the predicted probability distribution with shape (batch_size, output_size)\n",
        "    # targets is the ground-truth labels with shape (batch_size,)\n",
        "    # Return the negative log likelihood loss with shape (batch_size,)\n",
        "\n",
        "    # There are actually two functions for negative log likelihood loss: torch.nn.NLLLoss and torch.nn.functional.nll_loss\n",
        "    # You can convert the ground-truth labels to one-hot encoding using torch.eye() and pass to NLLLoss\n",
        "    # Alternatively, try converting targets to type LongTensor and passing that to functional.nll_loss\n",
        "    ################# Your Implementations #################################\n",
        "    log_probs = torch.log(pred_probs)\n",
        "    loss = torch.nn.functional.nll_loss(log_probs, targets.long())\n",
        "\n",
        "    ################# End of your Implementations ##########################\n",
        "    return loss"
      ]
    },
    {
      "cell_type": "markdown",
      "metadata": {
        "id": "En2_dN61u4GY"
      },
      "source": [
        "Use these implementations below to implement the Softmax Regression model."
      ]
    },
    {
      "cell_type": "code",
      "execution_count": 57,
      "metadata": {
        "execution": {
          "iopub.execute_input": "2023-10-07T02:20:42.124278Z",
          "iopub.status.busy": "2023-10-07T02:20:42.123678Z",
          "iopub.status.idle": "2023-10-07T02:20:42.137001Z",
          "shell.execute_reply": "2023-10-07T02:20:42.136301Z",
          "shell.execute_reply.started": "2023-10-07T02:20:42.124245Z"
        },
        "id": "jNNKg5S2S2iT",
        "trusted": true
      },
      "outputs": [],
      "source": [
        "class SoftmaxRegression(LinearRegression):\n",
        "    def __init__(self, input_size, output_size):\n",
        "        super(SoftmaxRegression, self).__init__(input_size, output_size)\n",
        "\n",
        "    def forward(self, x):\n",
        "        # Apply the softmax function to the linear output\n",
        "        ################# Your Implementations #################################\n",
        "        output = self.linear(x)\n",
        "        output = softmax(output)\n",
        "\n",
        "        ################# End of your Implementations ##########################\n",
        "        return output\n",
        "\n",
        "    def get_loss(self, pred_logits, targets):\n",
        "        # Calculate the cross-entropy loss\n",
        "        ################# Your Implementations #################################\n",
        "        loss = nll_loss(pred_logits, targets)\n",
        "\n",
        "        ################# End of your Implementations ##########################\n",
        "        return loss\n",
        "\n",
        "    def evaluate(self, x, y):\n",
        "        # Evaluate the performance of the linear regression model on the dataset\n",
        "        # x is the input data, y is the ground-truth labels\n",
        "        # Calculate the predicted labels\n",
        "        y_pred = self.forward(x)\n",
        "        y_pred = y_pred.argmax(dim=1) #changed from dim=0 to dim=1\n",
        "        return (y_pred == y).float().mean().item()\n"
      ]
    },
    {
      "cell_type": "code",
      "execution_count": 58,
      "metadata": {
        "execution": {
          "iopub.execute_input": "2023-10-07T02:20:42.138794Z",
          "iopub.status.busy": "2023-10-07T02:20:42.137943Z",
          "iopub.status.idle": "2023-10-07T02:20:42.156256Z",
          "shell.execute_reply": "2023-10-07T02:20:42.155352Z",
          "shell.execute_reply.started": "2023-10-07T02:20:42.138765Z"
        },
        "id": "epejCR31S2iT",
        "trusted": true
      },
      "outputs": [],
      "source": [
        "# Prepare multi-class dataset\n",
        "# Here \"ori\" indicates \"original\"\n",
        "X_train_ori_multi, y_train_multi = multi_train.dataset['data'], multi_train.dataset['label']\n",
        "X_val_ori_multi, y_val_multi = multi_val.dataset['data'], multi_val.dataset['label']\n",
        "\n",
        "# Normalization\n",
        "X_train_multi = normalize(X_train_ori_multi)\n",
        "X_val_multi = normalize(X_val_ori_multi)"
      ]
    },
    {
      "cell_type": "markdown",
      "metadata": {
        "id": "dE3jGM_zu6OG"
      },
      "source": [
        "Train! Don't worry if your accuracy is low, that's expected."
      ]
    },
    {
      "cell_type": "code",
      "execution_count": 59,
      "metadata": {
        "execution": {
          "iopub.execute_input": "2023-10-07T02:20:42.158507Z",
          "iopub.status.busy": "2023-10-07T02:20:42.157548Z",
          "iopub.status.idle": "2023-10-07T02:25:01.355554Z",
          "shell.execute_reply": "2023-10-07T02:25:01.354548Z",
          "shell.execute_reply.started": "2023-10-07T02:20:42.158476Z"
        },
        "id": "350le3gES2iT",
        "trusted": true,
        "colab": {
          "base_uri": "https://localhost:8080/"
        },
        "outputId": "fa703334-996b-41e0-d0e1-e3512412a60b"
      },
      "outputs": [
        {
          "output_type": "stream",
          "name": "stderr",
          "text": [
            "val_acc: 0.179: 100%|██████████| 20000/20000 [11:59<00:00, 27.79it/s]\n"
          ]
        }
      ],
      "source": [
        "sfm_model = SoftmaxRegression(3072, 20)\n",
        "# You can change the epochs accordingly here as well\n",
        "#sfm_val_accs = sfm_model.fit(X_train_multi.double(), y_train_multi, X_val_multi.double(), y_val_multi, 1e-4, 100000, 1000)\n",
        "sfm_val_accs = sfm_model.fit(X_train_multi.double(), y_train_multi, X_val_multi.double(), y_val_multi, 1e-4, 20000, 1000)"
      ]
    },
    {
      "cell_type": "markdown",
      "metadata": {
        "id": "lR7YpMFwS2iT"
      },
      "source": [
        "### Comparison (OPTIONAL)\n",
        "\n",
        "In your own words, explain the differences between Linear Regression, Logistic Regression and Softmax Regression:"
      ]
    },
    {
      "cell_type": "markdown",
      "metadata": {
        "id": "KZAMBiB3u_1n"
      },
      "source": [
        "*TODO: Write your answer here*"
      ]
    },
    {
      "cell_type": "markdown",
      "metadata": {
        "id": "6belwxbTvGFP"
      },
      "source": [
        "## Q2: Multi-Layer Perceptron (MLP)\n",
        "\n",
        "Now, we'll be using MiniPlaces, so there will be 100 different labels (instead of 20).\n",
        "\n",
        "You will use PyTorch to implement linear layers and ReLu to create a multi-layer perceptron."
      ]
    },
    {
      "cell_type": "code",
      "execution_count": 29,
      "metadata": {
        "execution": {
          "iopub.execute_input": "2023-10-07T02:25:01.357760Z",
          "iopub.status.busy": "2023-10-07T02:25:01.357137Z",
          "iopub.status.idle": "2023-10-07T02:25:01.848591Z",
          "shell.execute_reply": "2023-10-07T02:25:01.847682Z",
          "shell.execute_reply.started": "2023-10-07T02:25:01.357727Z"
        },
        "id": "6hCbbEp9S2iU",
        "trusted": true
      },
      "outputs": [],
      "source": [
        "from torch.utils.data import Dataset\n",
        "from PIL import Image\n",
        "\n",
        "class MiniPlaces(Dataset):\n",
        "    def __init__(self, root_dir, split, transform=None, label_dict=None):\n",
        "        assert split in ['train', 'val', 'test']\n",
        "        self.root_dir = root_dir\n",
        "        self.split = split\n",
        "        self.transform = transform\n",
        "        self.filenames = []\n",
        "        self.labels = []\n",
        "        self.label_dict = label_dict if label_dict is not None else {}\n",
        "        if split == \"train\" or split == \"val\":\n",
        "            with open(os.path.join(root_dir, (\"train\" if self.split == \"train\" else \"val\") + \".txt\")) as f:\n",
        "                for line in f:\n",
        "                    line = line.rstrip().split()\n",
        "                    n = int(line[0][-12:-4])\n",
        "                    if n <= 900:\n",
        "                        self.filenames.append(os.path.join(line[0]))\n",
        "                        self.labels.append(int(line[1]))\n",
        "        if label_dict is None and split == \"train\":\n",
        "            with open(os.path.join(root_dir, \"train.txt\")) as f:\n",
        "                num = -1\n",
        "                for line in f:\n",
        "                    line = line.rstrip().split()\n",
        "                    if int(line[1]) > num:\n",
        "                        num += 1\n",
        "                        self.label_dict.update({int(line[1]): line[0][8:line[0].find(\"/\", 8)]})\n",
        "        if split == \"test\":\n",
        "            self.labels = os.listdir(os.path.join(root_dir, \"images\", \"test\"))\n",
        "            self.filenames = [\"test/\" + i for i in self.labels]\n",
        "\n",
        "    def __len__(self):\n",
        "        dataset_len = len(self.labels)\n",
        "        return dataset_len\n",
        "\n",
        "    def __getitem__(self, idx):\n",
        "        image = Image.open(os.path.join(self.root_dir, \"images\", self.filenames[idx]))\n",
        "        if not self.transform is None:\n",
        "            image = self.transform(image)\n",
        "        label = self.labels[idx]\n",
        "        return image, label\n",
        "\n",
        "from torchvision import transforms\n",
        "\n",
        "data_transform = transforms.Compose([\n",
        "    transforms.Resize((64,64)),\n",
        "    transforms.ToTensor(),\n",
        "    transforms.Normalize([0.485, 0.456, 0.406],[0.229, 0.224, 0.225])\n",
        "])\n",
        "\n",
        "data_root = os.path.join(root_dir, 'data')\n",
        "miniplaces_train = MiniPlaces(data_root, split='train', transform=data_transform)\n",
        "miniplaces_val = MiniPlaces(\n",
        "    data_root, split='val',\n",
        "    transform=data_transform,\n",
        "    label_dict=miniplaces_train.label_dict)"
      ]
    },
    {
      "cell_type": "code",
      "execution_count": 30,
      "metadata": {
        "execution": {
          "iopub.execute_input": "2023-10-07T02:25:01.850319Z",
          "iopub.status.busy": "2023-10-07T02:25:01.850005Z",
          "iopub.status.idle": "2023-10-07T02:25:01.855105Z",
          "shell.execute_reply": "2023-10-07T02:25:01.854213Z",
          "shell.execute_reply.started": "2023-10-07T02:25:01.850289Z"
        },
        "id": "IALrjg2JS2iU",
        "trusted": true
      },
      "outputs": [],
      "source": [
        "import torch\n",
        "import torch.nn as nn\n",
        "import torch.nn.functional as F"
      ]
    },
    {
      "cell_type": "code",
      "execution_count": 62,
      "metadata": {
        "execution": {
          "iopub.execute_input": "2023-10-07T02:25:01.856935Z",
          "iopub.status.busy": "2023-10-07T02:25:01.856181Z",
          "iopub.status.idle": "2023-10-07T02:25:01.866312Z",
          "shell.execute_reply": "2023-10-07T02:25:01.865313Z",
          "shell.execute_reply.started": "2023-10-07T02:25:01.856901Z"
        },
        "id": "HTAJh7JJS2iU",
        "trusted": true
      },
      "outputs": [],
      "source": [
        "class FastMLP(nn.Module):\n",
        "    def __init__(self, input_size, hidden_size, num_classes):\n",
        "        \"\"\"\n",
        "        Initialize an MLP classifier.\n",
        "        Input and output sizes of each layer:\n",
        "          1) fc1: input_size, hidden_size\n",
        "          2) fc2: hidden_size, hidden_size\n",
        "          3) fc3: hidden_size, num_classes\n",
        "\n",
        "        Args:\n",
        "            input_size (int): Size of the input layer.\n",
        "            hidden_size (int): Size of the hidden layer.\n",
        "            num_classes (int): Number of classes in the output layer.\n",
        "        \"\"\"\n",
        "        super().__init__()\n",
        "        self.fc1 = None\n",
        "        self.fc2 = None\n",
        "        self.fc3 = None\n",
        "        ################# Your Implementations #################################\n",
        "        # TODO: Define the layers of the MLP\n",
        "        # Hint: The imported modules should give you a clue on which PyTorch functions to use\n",
        "        self.fc1 = nn.Linear(input_size, hidden_size)\n",
        "        self.fc2 = nn.Linear(hidden_size, hidden_size)\n",
        "        self.fc3 = nn.Linear(hidden_size, num_classes)\n",
        "\n",
        "        ################# End of your Implementations ##########################\n",
        "\n",
        "    def forward(self, x):\n",
        "        \"\"\"\n",
        "        Forward pass of the MLP classifier.\n",
        "        Using ReLU as the activation function after each layer, except for the output layer.\n",
        "        Args:\n",
        "            x (torch.Tensor): Input tensor of shape (batch_size, input_size).\n",
        "\n",
        "        Returns:\n",
        "            torch.Tensor: Output tensor of shape (batch_size, num_classes).\n",
        "        \"\"\"\n",
        "        ################# Your Implementations #################################\n",
        "        # TODO: Implement the forward pass of the MLP classifier\n",
        "        x = F.relu(self.fc1(x))\n",
        "        x = F.relu(self.fc2(x))\n",
        "        x = self.fc3(x)\n",
        "\n",
        "        ################# End of your Implementations ##########################\n",
        "        return x\n"
      ]
    },
    {
      "cell_type": "markdown",
      "metadata": {
        "id": "Yv1WHvTPvKxB"
      },
      "source": [
        "Then, define the training and evaluation functions to train and test the MLP classifier (You don't need to modify this part):"
      ]
    },
    {
      "cell_type": "code",
      "execution_count": 31,
      "metadata": {
        "execution": {
          "iopub.execute_input": "2023-10-07T02:25:01.868213Z",
          "iopub.status.busy": "2023-10-07T02:25:01.867684Z",
          "iopub.status.idle": "2023-10-07T02:25:01.886545Z",
          "shell.execute_reply": "2023-10-07T02:25:01.885542Z",
          "shell.execute_reply.started": "2023-10-07T02:25:01.868185Z"
        },
        "id": "Qy917OG_S2iU",
        "trusted": true
      },
      "outputs": [],
      "source": [
        "def train(model, train_loader, val_loader, optimizer, criterion, device, num_epochs):\n",
        "    # Place model on device\n",
        "    model = model.to(device)\n",
        "    best_acc = 0\n",
        "    flag = False\n",
        "    for epoch in range(num_epochs):\n",
        "        model.train()  # Set model to training mode\n",
        "        # Use tqdm to display a progress bar during training\n",
        "        with tqdm(total=len(train_loader), desc=f'Epoch {epoch + 1}/{num_epochs}') as pbar:\n",
        "            for inputs, labels in train_loader:\n",
        "                # Move inputs and labels to device\n",
        "                inputs = inputs.to(device)\n",
        "                labels = labels.to(device)\n",
        "                # Zero out gradients\n",
        "                optimizer.zero_grad()\n",
        "                # Compute the logits and loss\n",
        "                logits = model(inputs)\n",
        "                loss = criterion(logits, labels)\n",
        "                # Backpropagate the loss\n",
        "                loss.backward()\n",
        "                # Update the weights\n",
        "                optimizer.step()\n",
        "                # Update the progress bar\n",
        "                pbar.update(1)\n",
        "                pbar.set_postfix(loss=loss.item())\n",
        "\n",
        "        # Evaluate the model on the validation set\n",
        "        avg_loss, accuracy = evaluate(model, val_loader, criterion, device)\n",
        "        if best_acc > accuracy:\n",
        "            if flag:\n",
        "                print(f'Validation set: Average loss = {avg_loss:.4f}, Accuracy = {accuracy:.4f}')\n",
        "                break\n",
        "            else:\n",
        "                flag = True\n",
        "        else:\n",
        "            best_acc = accuracy\n",
        "            flag = False\n",
        "        print(f'Validation set: Average loss = {avg_loss:.4f}, Accuracy = {accuracy:.4f}')\n",
        "\n",
        "def evaluate(model, test_loader, criterion, device):\n",
        "    \"\"\"\n",
        "    Evaluate the classifier on the test set.\n",
        "\n",
        "    Args:\n",
        "        model: classifier to evaluate.\n",
        "        test_loader (torch.utils.data.DataLoader): Data loader for the test set.\n",
        "        criterion (callable): Loss function to use for evaluation.\n",
        "        device (torch.device): Device to use for evaluation.\n",
        "\n",
        "    Returns:\n",
        "        float: Average loss on the test set.\n",
        "        float: Accuracy on the test set.\n",
        "    \"\"\"\n",
        "    model.eval()  # Set model to evaluation mode\n",
        "\n",
        "    with torch.no_grad():\n",
        "        total_loss = 0.0\n",
        "        num_correct = 0\n",
        "        num_samples = 0\n",
        "\n",
        "        for inputs, labels in test_loader:\n",
        "            # Move inputs and labels to device\n",
        "            inputs = inputs.to(device)\n",
        "            labels = labels.to(device)\n",
        "\n",
        "            # Compute the logits and loss\n",
        "            logits = model(inputs)\n",
        "            loss = criterion(logits, labels)\n",
        "            total_loss += loss.item()\n",
        "\n",
        "            # Compute the accuracy\n",
        "            _, predictions = torch.max(logits, dim=1)\n",
        "            num_correct += (predictions == labels).sum().item()\n",
        "            num_samples += len(inputs)\n",
        "\n",
        "    # Compute the average loss and accuracy\n",
        "    avg_loss = total_loss / len(test_loader)\n",
        "    accuracy = num_correct / num_samples\n",
        "\n",
        "    return avg_loss, accuracy\n",
        "\n",
        "def predict(model, test_dataloader):\n",
        "    \"\"\"\n",
        "    Evaluate the classifier on the test set.\n",
        "\n",
        "    Args:\n",
        "        model: classifier to evaluate.\n",
        "        test_loader (torch.utils.data.DataLoader): Data loader for the test set.\n",
        "        criterion (callable): Loss function to use for evaluation.\n",
        "        device (torch.device): Device to use for evaluation.\n",
        "\n",
        "    Returns:\n",
        "        float: Average loss on the test set.\n",
        "        float: Accuracy on the test set.\n",
        "    \"\"\"\n",
        "    out = []\n",
        "    for i in test_dataloader:\n",
        "        pic = i[0]\n",
        "        lab = torch.argmax(model.to('cpu')(pic))\n",
        "        out.append(lab.item())\n",
        "\n",
        "    return out\n",
        "\n",
        "data_transform_flatten = transforms.Compose([data_transform, torch.flatten])"
      ]
    },
    {
      "cell_type": "code",
      "execution_count": 64,
      "metadata": {
        "execution": {
          "iopub.execute_input": "2023-10-07T02:25:01.888753Z",
          "iopub.status.busy": "2023-10-07T02:25:01.887870Z",
          "iopub.status.idle": "2023-10-07T02:25:02.170334Z",
          "shell.execute_reply": "2023-10-07T02:25:02.169396Z",
          "shell.execute_reply.started": "2023-10-07T02:25:01.888722Z"
        },
        "id": "lrz292JzS2iV",
        "trusted": true
      },
      "outputs": [],
      "source": [
        "model = FastMLP(\n",
        "    input_size=3 * 64 * 64,\n",
        "    hidden_size=1024,\n",
        "    num_classes=len(miniplaces_train.label_dict))\n",
        "optimizer = torch.optim.SGD(\n",
        "    model.parameters(),\n",
        "    lr=0.01,\n",
        "    momentum=0.9)\n",
        "criterion = nn.CrossEntropyLoss()\n",
        "\n",
        "data_root = os.path.join(root_dir, 'data')\n",
        "train_dataset = MiniPlaces(\n",
        "    root_dir=data_root, split='train',\n",
        "    transform=data_transform_flatten)\n",
        "val_dataset = MiniPlaces(\n",
        "    root_dir=data_root, split='val',\n",
        "    transform=data_transform_flatten,\n",
        "    label_dict=train_dataset.label_dict)\n",
        "\n",
        "### !!! DON'T CHANGE NUM_WORKERS FROM 0 !!!\n",
        "### Using the loader will crash the notebook\n",
        "\n",
        "train_loader = torch.utils.data.DataLoader(\n",
        "    train_dataset, batch_size=64, num_workers=0, shuffle=True)\n",
        "val_loader = torch.utils.data.DataLoader(\n",
        "    val_dataset, batch_size=64, num_workers=0, shuffle=False)"
      ]
    },
    {
      "cell_type": "markdown",
      "metadata": {
        "id": "v6rHQjo-vOfk"
      },
      "source": [
        "Train!"
      ]
    },
    {
      "cell_type": "code",
      "execution_count": 65,
      "metadata": {
        "execution": {
          "iopub.execute_input": "2023-10-07T02:25:02.172229Z",
          "iopub.status.busy": "2023-10-07T02:25:02.171708Z",
          "iopub.status.idle": "2023-10-07T02:27:32.844057Z",
          "shell.execute_reply": "2023-10-07T02:27:32.843133Z",
          "shell.execute_reply.started": "2023-10-07T02:25:02.172198Z"
        },
        "id": "z7Lkar0mS2iV",
        "trusted": true,
        "colab": {
          "base_uri": "https://localhost:8080/"
        },
        "outputId": "709fd674-9cd7-4894-c16e-bbec38669479"
      },
      "outputs": [
        {
          "output_type": "stream",
          "name": "stderr",
          "text": [
            "Epoch 1/2: 100%|██████████| 1407/1407 [01:24<00:00, 16.64it/s, loss=4.27]\n"
          ]
        },
        {
          "output_type": "stream",
          "name": "stdout",
          "text": [
            "Validation set: Average loss = 3.8727, Accuracy = 0.1144\n"
          ]
        },
        {
          "output_type": "stream",
          "name": "stderr",
          "text": [
            "Epoch 2/2: 100%|██████████| 1407/1407 [01:20<00:00, 17.41it/s, loss=4]\n"
          ]
        },
        {
          "output_type": "stream",
          "name": "stdout",
          "text": [
            "Validation set: Average loss = 3.7994, Accuracy = 0.1244\n"
          ]
        }
      ],
      "source": [
        "train(model, train_loader, val_loader, optimizer, criterion, device, num_epochs=2)"
      ]
    },
    {
      "cell_type": "markdown",
      "metadata": {
        "id": "j2kvnzTMvQ9b"
      },
      "source": [
        "Don't worry if your accuracy is low, that's to be expected."
      ]
    },
    {
      "cell_type": "markdown",
      "metadata": {
        "id": "do5obzs5vSf2"
      },
      "source": [
        "## Q3: Convolutional Neural Network (CNN)\n",
        "\n",
        "This question is similar to the last, but you'll be implementing a convolutional neural network instead. You'll need to use convolutional layers, a max pooling layer, and dropout layers."
      ]
    },
    {
      "cell_type": "code",
      "execution_count": 66,
      "metadata": {
        "execution": {
          "iopub.execute_input": "2023-10-07T02:27:32.846054Z",
          "iopub.status.busy": "2023-10-07T02:27:32.845706Z",
          "iopub.status.idle": "2023-10-07T02:27:32.858683Z",
          "shell.execute_reply": "2023-10-07T02:27:32.857864Z",
          "shell.execute_reply.started": "2023-10-07T02:27:32.846023Z"
        },
        "id": "LUnmzdS0S2iV",
        "trusted": true
      },
      "outputs": [],
      "source": [
        "class FastConv(nn.Module):\n",
        "    def __init__(\n",
        "        self,\n",
        "        input_channels, conv_hidden_channels, conv_out_channels,\n",
        "        input_size=(64,64),\n",
        "        dropout_rate1=0.25, dropout_rate2=0.5,\n",
        "        fc_out_channels=128, num_classes=100,\n",
        "        kernel_size=3, stride=1, padding=1):\n",
        "        \"\"\"\n",
        "        Args:\n",
        "          input_channels (int): Number of channels in the input image.\n",
        "          conv_hidden_channels (int): Number of channels in the first convolutional layer.\n",
        "          conv_out_channels (int): Number of channels in the second convolutional layer.\n",
        "          input_size (tuple, optional): Height and width of the input image. (default: (64,64))\n",
        "          dropout_rate1, dropout_rate2 (float, optional): Dropout rate for\n",
        "              the first/second dropout layer. (default: 0.25, 0.5)\n",
        "          fc_out_channels (int, optional): Number of neurons in the first fully\n",
        "              connected layer. (default: 128)\n",
        "          num_classes (int, optional): Number of classes in the final output layer. (default: 100)\n",
        "          kernel_size, stride, padding (int, optional): Parameters of convolutional layers.\n",
        "\n",
        "        Initialize a convolutional neural network.\n",
        "        You can use Pytorch's built-in nn.Conv2d function.\n",
        "        Input and output shapes of each layer:\n",
        "        1) conv1: (batch_size, input_channels, H, W) -> (batch_size, conv_hidden_channels, H, W)\n",
        "        2) conv2: (batch_size, conv_hidden_channels, H, W) -> (batch_size, conv_out_channels, H, W)\n",
        "        3) max_pooling: (batch_size, conv_out_channels, H, W)\n",
        "        4) fc1: (batch_size, flatten_size) -> (batch_size, fc_out_channels)\n",
        "        5) fc2: (batch_size, fc_out_channels) -> (batch_size, num_classes)\n",
        "        \"\"\"\n",
        "\n",
        "        super().__init__()\n",
        "\n",
        "        # I've given you 'flatten_size', since I'm not expecting you to have this formula memorized :)\n",
        "        flatten_size = conv_out_channels * ((input_size[0] + 2 * padding - kernel_size) // stride + 1) * ((input_size[1] + 2 * padding - kernel_size) // stride + 1)\n",
        "        self.conv1 = None\n",
        "        self.conv2 = None\n",
        "        self.max_pooling = None\n",
        "        self.dropout1 = None\n",
        "        self.dropout2 = None\n",
        "        self.fc1 = None\n",
        "        self.fc2 = None\n",
        "        ################# Your Implementations #################################\n",
        "        # TODO: Define the layers of the convolutional neural network\n",
        "        # replace \"None\"s with your implementations.\n",
        "        # All you need to do is to pass the input arguments to different constructors\n",
        "\n",
        "        # recompute flatten_size\n",
        "        H, W = input_size\n",
        "        H_out = ((H + 2*padding - kernel_size) // stride + 1)\n",
        "        W_out = ((W + 2*padding - kernel_size) // stride + 1)\n",
        "        H_out //= 2\n",
        "        W_out //= 2\n",
        "        flatten_size = conv_out_channels * H_out * W_out\n",
        "\n",
        "        self.conv1 = nn.Conv2d(in_channels=input_channels, out_channels=conv_hidden_channels, kernel_size=kernel_size, padding=padding, stride=stride)\n",
        "        self.conv2 = nn.Conv2d(in_channels=conv_hidden_channels, out_channels=conv_out_channels, kernel_size=kernel_size, padding=padding, stride=stride)\n",
        "        self.max_pooling = nn.MaxPool2d(kernel_size=2, stride=2)\n",
        "        self.dropout1 = nn.Dropout2d(p=dropout_rate1)\n",
        "        self.dropout2 = nn.Dropout(p=dropout_rate2)\n",
        "        self.fc1 = nn.Linear(flatten_size, fc_out_channels)\n",
        "        self.fc2 = nn.Linear(fc_out_channels, num_classes)\n",
        "\n",
        "        ################# End of your Implementations ##########################\n",
        "\n",
        "    def forward(self, x, return_intermediate=False):\n",
        "        \"\"\"\n",
        "        Forward pass of the convolutional neural network.\n",
        "        The input tensor 'x' should pass through the following layers:\n",
        "        1) conv1: (batch_size, input_channels, H, W) -> (batch_size, conv_hidden_channels, H, W)\n",
        "        2) Apply relu.\n",
        "        3) conv2: (batch_size, conv_hidden_channels, H, W) -> (batch_size, conv_out_channels, H, W)\n",
        "        4) max_pooling: Perform max pooling on the output from conv2\n",
        "        5) dropout1: Perform dropout on the output from max_pooling\n",
        "        6) Flatten the output from dropout1\n",
        "        7) fc1: Pass through a fully connected layer\n",
        "        8) dropout2: Perform dropout on the output from fc1\n",
        "        9) Apply relu.\n",
        "        10) fc2: Pass the output from the actiction layer to through a fully connected\n",
        "                layer to produce the final output\n",
        "        \"\"\"\n",
        "        ################# Your Implementations #################################\n",
        "        # TODO: Implement the forward pass of the convolutional neural network\n",
        "        x = self.conv1(x)\n",
        "        x = F.relu(x)\n",
        "        x = self.conv2(x)\n",
        "        x = self.max_pooling(x)\n",
        "        x = self.dropout1(x)\n",
        "        x = torch.flatten(x, start_dim=1)\n",
        "        x = self.fc1(x)\n",
        "        x = self.dropout2(x)\n",
        "        x = F.relu(x)\n",
        "        x = self.fc2(x)\n",
        "\n",
        "        ################# End of your Implementations ##########################\n",
        "        return x\n"
      ]
    },
    {
      "cell_type": "code",
      "execution_count": 67,
      "metadata": {
        "execution": {
          "iopub.execute_input": "2023-10-07T02:27:32.863492Z",
          "iopub.status.busy": "2023-10-07T02:27:32.863259Z",
          "iopub.status.idle": "2023-10-07T02:27:33.660811Z",
          "shell.execute_reply": "2023-10-07T02:27:33.659848Z",
          "shell.execute_reply.started": "2023-10-07T02:27:32.863472Z"
        },
        "id": "U3L6j5hPS2iW",
        "trusted": true
      },
      "outputs": [],
      "source": [
        "conv_train_dataset = MiniPlaces(\n",
        "    root_dir=data_root, split='train',\n",
        "    transform=data_transform)\n",
        "conv_val_dataset = MiniPlaces(\n",
        "    root_dir=data_root, split='val',\n",
        "    transform=data_transform)\n",
        "conv_train_loader = torch.utils.data.DataLoader(\n",
        "    conv_train_dataset, batch_size=64, num_workers=0, shuffle=True)\n",
        "conv_val_loader = torch.utils.data.DataLoader(\n",
        "    conv_val_dataset, batch_size=64, num_workers=0, shuffle=False)\n",
        "\n",
        "model = FastConv(\n",
        "    input_channels=3, conv_hidden_channels=64, conv_out_channels=128,\n",
        "    input_size=(64,64),\n",
        "    dropout_rate1=0.25, dropout_rate2=0.5,\n",
        "    fc_out_channels=128,\n",
        "    kernel_size=3, stride=1, padding=1,\n",
        "    num_classes=len(miniplaces_train.label_dict))\n",
        "optimizer = torch.optim.SGD(model.parameters(), lr=0.01, momentum=0.9)\n",
        "criterion = nn.CrossEntropyLoss()"
      ]
    },
    {
      "cell_type": "markdown",
      "metadata": {
        "id": "F0m77a-xvXv3"
      },
      "source": [
        "Train!"
      ]
    },
    {
      "cell_type": "code",
      "execution_count": 68,
      "metadata": {
        "execution": {
          "iopub.execute_input": "2023-10-07T02:27:33.662588Z",
          "iopub.status.busy": "2023-10-07T02:27:33.662236Z",
          "iopub.status.idle": "2023-10-07T02:31:35.175404Z",
          "shell.execute_reply": "2023-10-07T02:31:35.174516Z",
          "shell.execute_reply.started": "2023-10-07T02:27:33.662556Z"
        },
        "id": "dFq88hc5S2iW",
        "trusted": true,
        "colab": {
          "base_uri": "https://localhost:8080/"
        },
        "outputId": "564a2a18-f947-4424-c997-3eca0ec9587b"
      },
      "outputs": [
        {
          "output_type": "stream",
          "name": "stderr",
          "text": [
            "Epoch 1/2: 100%|██████████| 1407/1407 [01:59<00:00, 11.74it/s, loss=3.39]\n"
          ]
        },
        {
          "output_type": "stream",
          "name": "stdout",
          "text": [
            "Validation set: Average loss = 3.6965, Accuracy = 0.1378\n"
          ]
        },
        {
          "output_type": "stream",
          "name": "stderr",
          "text": [
            "Epoch 2/2: 100%|██████████| 1407/1407 [02:00<00:00, 11.67it/s, loss=3.84]\n"
          ]
        },
        {
          "output_type": "stream",
          "name": "stdout",
          "text": [
            "Validation set: Average loss = 3.5596, Accuracy = 0.1578\n"
          ]
        }
      ],
      "source": [
        "train(model, conv_train_loader, conv_val_loader, optimizer, criterion, device, num_epochs=2)"
      ]
    },
    {
      "cell_type": "markdown",
      "metadata": {
        "id": "myZY1O24vYp5"
      },
      "source": [
        "I can get ~20% accuracy after two epochs. How about you?"
      ]
    },
    {
      "cell_type": "markdown",
      "metadata": {
        "id": "96dwsv_9vb5j"
      },
      "source": [
        "## Q4: Your own model\n",
        "\n",
        "You will construct your own model using built-in convolutional layers. You can base your model on the provided `FastConv` class, or choose to modify the number of convolutional layers, feature size, learning rate, optimizer, and other parameters to suit your needs. You can also use any data transformations you'd like. You can even base your model off of an already existing architecture. The only restriction is that you can't blindly import an entire model at once; you should be creating every layer using PyTorch. Create your model and train using cells below."
      ]
    },
    {
      "cell_type": "code",
      "execution_count": 32,
      "metadata": {
        "execution": {
          "iopub.execute_input": "2023-10-07T02:31:35.177651Z",
          "iopub.status.busy": "2023-10-07T02:31:35.176994Z",
          "iopub.status.idle": "2023-10-07T02:31:35.192199Z",
          "shell.execute_reply": "2023-10-07T02:31:35.191285Z",
          "shell.execute_reply.started": "2023-10-07T02:31:35.177602Z"
        },
        "id": "2jnrWmTJS2iW",
        "trusted": true
      },
      "outputs": [],
      "source": [
        "### Use these cells to design and train your model\n",
        "\n",
        "class MyModel(nn.Module):\n",
        "    def __init__(\n",
        "        self,\n",
        "        input_channels, conv_hidden_channels, conv_out_channels,\n",
        "        input_size=(64,64),\n",
        "        dropout_rate1=0.25, dropout_rate2=0.5,\n",
        "        fc_out_channels=128, num_classes=100,\n",
        "        kernel_size=3, stride=1, padding=1):\n",
        "\n",
        "        super().__init__()\n",
        "\n",
        "        H, W = input_size\n",
        "        H = (H + 2*padding - kernel_size)//stride + 1\n",
        "        W = (W + 2*padding - kernel_size)//stride + 1\n",
        "        H = (H + 2*padding - kernel_size)//stride + 1\n",
        "        W = (W + 2*padding - kernel_size)//stride + 1\n",
        "        H //= 2\n",
        "        W //= 2\n",
        "        H = (H + 2*padding - kernel_size)//stride + 1\n",
        "        W = (W + 2*padding - kernel_size)//stride + 1\n",
        "        H //= 2\n",
        "        W //= 2\n",
        "\n",
        "        flatten_size = (conv_out_channels * 2) * H * W\n",
        "\n",
        "\n",
        "        self.conv1 = nn.Conv2d(in_channels=input_channels, out_channels=conv_hidden_channels, kernel_size=kernel_size, padding=padding, stride=stride)\n",
        "        self.conv2 = nn.Conv2d(in_channels=conv_hidden_channels, out_channels=conv_out_channels, kernel_size=kernel_size, padding=padding, stride=stride)\n",
        "        self.conv3 = nn.Conv2d(conv_out_channels, conv_out_channels*2, kernel_size, stride, padding)\n",
        "        self.max_pooling = nn.MaxPool2d(kernel_size=2, stride=2)\n",
        "        self.dropout1 = nn.Dropout2d(p=dropout_rate1)\n",
        "        self.dropout2 = nn.Dropout(p=dropout_rate2)\n",
        "        self.fc1 = nn.Linear(flatten_size, fc_out_channels)\n",
        "        self.fc2 = nn.Linear(fc_out_channels, num_classes)\n",
        "\n",
        "    def forward(self, x, return_intermediate=False):\n",
        "        x = F.relu(self.conv1(x))\n",
        "        x = F.relu(self.conv2(x))\n",
        "        x = self.max_pooling(x)\n",
        "        x = self.dropout1(x)\n",
        "        x = F.relu(self.conv3(x))\n",
        "        x = self.max_pooling(x)\n",
        "        x = self.dropout1(x)\n",
        "        x = torch.flatten(x, start_dim=1)\n",
        "        x = self.fc1(x)\n",
        "        x = self.dropout2(x)\n",
        "        x = F.relu(x)\n",
        "        x = self.fc2(x)\n",
        "\n",
        "        return x\n"
      ]
    },
    {
      "cell_type": "code",
      "execution_count": 70,
      "metadata": {
        "execution": {
          "iopub.execute_input": "2023-10-07T02:31:35.194237Z",
          "iopub.status.busy": "2023-10-07T02:31:35.193796Z",
          "iopub.status.idle": "2023-10-07T02:31:35.912492Z",
          "shell.execute_reply": "2023-10-07T02:31:35.911583Z",
          "shell.execute_reply.started": "2023-10-07T02:31:35.194205Z"
        },
        "id": "zbwdIV_dS2iW",
        "trusted": true
      },
      "outputs": [],
      "source": [
        "### Previous questions will be super useful"
      ]
    },
    {
      "cell_type": "markdown",
      "metadata": {
        "id": "nRu2l4A5vj7_"
      },
      "source": [
        "Now that you've designed your model and trained it, it's time to test it's accuracy! Use the \"test\" images and the 'predict' function.\n",
        "\n",
        "NOTE: Make sure when constructing your DataLoader, you set 'shuffle' to 'False'. This is so I can match your model's predictions to test images to find how accurate its predictions are."
      ]
    },
    {
      "cell_type": "code",
      "execution_count": 33,
      "metadata": {
        "id": "yME96Ltrv4hN",
        "colab": {
          "base_uri": "https://localhost:8080/"
        },
        "outputId": "7e8e6951-41c9-405d-9f52-0e97cb92e779"
      },
      "outputs": [
        {
          "output_type": "stream",
          "name": "stderr",
          "text": [
            "Epoch 1/2: 100%|██████████| 1407/1407 [02:26<00:00,  9.61it/s, loss=4.62]\n"
          ]
        },
        {
          "output_type": "stream",
          "name": "stdout",
          "text": [
            "Validation set: Average loss = 4.6110, Accuracy = 0.0089\n"
          ]
        },
        {
          "output_type": "stream",
          "name": "stderr",
          "text": [
            "Epoch 2/2: 100%|██████████| 1407/1407 [02:26<00:00,  9.63it/s, loss=4.6]\n"
          ]
        },
        {
          "output_type": "stream",
          "name": "stdout",
          "text": [
            "Validation set: Average loss = 4.6105, Accuracy = 0.0067\n"
          ]
        }
      ],
      "source": [
        "### Create your DataLoader and use predict to get your model's predictions\n",
        "conv_train_dataset = MiniPlaces(\n",
        "    root_dir=data_root, split='train',\n",
        "    transform=data_transform)\n",
        "conv_val_dataset = MiniPlaces(\n",
        "    root_dir=data_root, split='val',\n",
        "    transform=data_transform)\n",
        "conv_train_loader = torch.utils.data.DataLoader(\n",
        "    conv_train_dataset, batch_size=64, num_workers=0, shuffle=True)\n",
        "conv_val_loader = torch.utils.data.DataLoader(\n",
        "    conv_val_dataset, batch_size=64, num_workers=0, shuffle=False)\n",
        "\n",
        "model = MyModel(\n",
        "    input_channels=3, conv_hidden_channels=64, conv_out_channels=128,\n",
        "    input_size=(64,64),\n",
        "    dropout_rate1=0.25, dropout_rate2=0.5,\n",
        "    fc_out_channels=128,\n",
        "    kernel_size=3, stride=1, padding=1,\n",
        "    num_classes=len(miniplaces_train.label_dict))\n",
        "optimizer = torch.optim.Adam(model.parameters(), lr=1e-2)\n",
        "criterion = nn.CrossEntropyLoss()\n",
        "\n",
        "train(model, conv_train_loader, conv_val_loader, optimizer, criterion, device, num_epochs=2)"
      ]
    },
    {
      "cell_type": "code",
      "execution_count": 34,
      "metadata": {
        "id": "2OJ4199hJ-bJ"
      },
      "outputs": [],
      "source": [
        "test_preds = predict(model,  conv_val_loader)"
      ]
    },
    {
      "cell_type": "markdown",
      "metadata": {
        "id": "2kgHXoee2fQL"
      },
      "source": [
        "Now that you have a list containing your predictions, you should create a file named \"{your_name}.json\", containing \"{id: predicted_label}\" pairs. A function to do this has been provided, just pass in the output of the predict function from the previous cell. You can find the file under the \"data\" folder by clicking on the folder icon in Colab, or in your working directory output in Kaggle"
      ]
    },
    {
      "cell_type": "code",
      "execution_count": 35,
      "metadata": {
        "execution": {
          "iopub.execute_input": "2023-10-07T03:14:31.910276Z",
          "iopub.status.busy": "2023-10-07T03:14:31.909938Z",
          "iopub.status.idle": "2023-10-07T03:14:31.917337Z",
          "shell.execute_reply": "2023-10-07T03:14:31.916417Z",
          "shell.execute_reply.started": "2023-10-07T03:14:31.910247Z"
        },
        "id": "XpAuKsroS2iX",
        "trusted": true
      },
      "outputs": [],
      "source": [
        "import json\n",
        "def preds_to_json(preds):\n",
        "    json_dict = {}\n",
        "    for i, n in enumerate(preds):\n",
        "        json_dict[str('0000000'+str(i+1))[-8:]] = n\n",
        "    with open(os.path.join(root_dir,'your_name.json'), 'w', encoding='utf-8') as f:\n",
        "        #If you're using a Kaggle notebook, change root_dir to '/kaggle/working/'\n",
        "        json.dump(json_dict, f, ensure_ascii=False, indent=4)\n",
        "\n",
        "## 'test_preds' should be the output of 'predict' from the previous cell\n",
        "preds_to_json(test_preds)"
      ]
    },
    {
      "cell_type": "markdown",
      "metadata": {
        "id": "bYPqu_8qwdc5"
      },
      "source": [
        "### Model Architecture Explanation\n",
        "\n",
        "In the cell below, explain your model's architecture and how you came up with it. Feel free to include as many details as you want, including how you decided on a learning rate or data transformations."
      ]
    },
    {
      "cell_type": "markdown",
      "metadata": {
        "id": "5NPL4ZE5wfc3"
      },
      "source": [
        "I decided to not go super fancy. Instead I just added another conv layer, which required me to recompute the flatten size. I also decided to change the optimizer, as we just finished covering that in CS 260D. I chose to use Adam, as I thought this would help the model converge much faster than standard SGD."
      ]
    },
    {
      "cell_type": "markdown",
      "metadata": {
        "id": "2jFcq5U_wh1R"
      },
      "source": [
        "## You've Finished!!!\n",
        "\n",
        "Great job completing the assessment! The root directory for this notebook should now include the .json with your test predictions. In order to submit this assessment, all you have to do is email this notebook as an .ipynb and the .json to yuliaanashkina@g.ucla.edu AND danielavartani@g.ucla.edu\n",
        "\n",
        "Thanks for taking the time to work through these problems! We look forward to reading through your application. You should expect to hear back a few days after April 6th."
      ]
    }
  ],
  "metadata": {
    "accelerator": "GPU",
    "colab": {
      "gpuType": "T4",
      "provenance": []
    },
    "kernelspec": {
      "display_name": "base",
      "language": "python",
      "name": "python3"
    },
    "language_info": {
      "codemirror_mode": {
        "name": "ipython",
        "version": 3
      },
      "file_extension": ".py",
      "mimetype": "text/x-python",
      "name": "python",
      "nbconvert_exporter": "python",
      "pygments_lexer": "ipython3",
      "version": "3.12.9"
    }
  },
  "nbformat": 4,
  "nbformat_minor": 0
}